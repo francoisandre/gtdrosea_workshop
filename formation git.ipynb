{
 "cells": [
  {
   "cell_type": "markdown",
   "metadata": {},
   "source": [
    "# Configurer git"
   ]
  },
  {
   "cell_type": "markdown",
   "metadata": {},
   "source": [
    "## Commandes utiles\n",
    "\n",
    "Cette configuration n'est à réaliser qu'une seule fois (pour une machine) et s'appliquera pour tous les codes qui seront versionnés sur cette machine. Ces options peuvent être changées en utilisant ces mêmes commandes.\n",
    "\n",
    "* Configurer les couleurs utilisées pour l'affichage de principale commandes\n",
    "    \n",
    "    `git config --global color.diff auto`\n",
    "    \n",
    "    `git config --global color.status auto`\n",
    "    \n",
    "    `git config --global color.branch auto`\n",
    "\n",
    "\n",
    "* Configurer votre pseudo\n",
    "\n",
    "    `git config --global user.name \"votre_pseudo\"`\n",
    "\n",
    "\n",
    "* Configurer votre adresse email\n",
    "\n",
    "    `git config --global user.email moi@email.com`\n",
    "\n",
    "\n",
    "git est extrêmement configurable. L'ensemble des options de configuration sont disponibles à cette adresse\n",
    "\n",
    "https://git-scm.herokuapp.com/docs/git-config\n",
    "\n",
    "Certains changements de configuration peuvent rendre git non fonctionnel. Soyez prudent."
   ]
  },
  {
   "cell_type": "markdown",
   "metadata": {},
   "source": [
    "## Exercice\n",
    "\n",
    "* Configurer git sur votre machine"
   ]
  },
  {
   "cell_type": "markdown",
   "metadata": {},
   "source": [
    "# Travailler seul en local"
   ]
  },
  {
   "cell_type": "markdown",
   "metadata": {},
   "source": [
    "## Commandes utiles\n",
    "\n",
    "* Initialiser un dépôt\n",
    "\n",
    "    `git init`\n",
    "    \n",
    "\n",
    "* Voir le statut du dépôt\n",
    "    \n",
    "    `git status`\n",
    "    \n",
    "    \n",
    "* Ajouer un fichier au futur snapshot\n",
    "    \n",
    "    `git add nom_du_fichier`\n",
    "    \n",
    "\n",
    "* Ajouter tous les fichiers et tous les dossier du dépôt au futur snapshot\n",
    "    \n",
    "    `git add .`\n",
    "    \n",
    "    \n",
    "* Faire un snapshot\n",
    "    \n",
    "    `git commit -m \"la description des changements\"`\n",
    "\n",
    "\n",
    "* Corriger un snapshot\n",
    "    \n",
    "    `git commit --amend -m \"la description des changements\"`\n",
    "\n",
    "\n",
    "* Supprimer un fichier du disque et \"prévenir\" de la suppression\n",
    "    \n",
    "    `git rm nom_du_fichier`\n",
    "\n",
    "\n",
    "* Arrêter de versionner un fichier avec git\n",
    "    \n",
    "    `git rm --cached nom_du_fichier`\n",
    "\n",
    "\n",
    "* Déplacer un fichier et \"prévenir\" git\n",
    "    \n",
    "    `git mv nom_du_fichier`\n",
    "\n",
    "\n",
    "* Visualiser la liste des commits récents\n",
    "    \n",
    "    `git log`\n",
    "\n",
    "\n",
    "* Visualiser les changements effectués sur un fichier\n",
    "    \n",
    "    `git diff nom_du_fichier`\n",
    "\n",
    "\n",
    "* Visualiser les changements du dernier commit\n",
    "    \n",
    "    `git show`\n",
    "\n",
    "\n",
    "* Annuler le dernier commit\n",
    "    \n",
    "    `git revert empreinte_commit`"
   ]
  },
  {
   "cell_type": "markdown",
   "metadata": {},
   "source": [
    "## Premier versionning\n",
    "\n",
    "* Créez un dossier **program_local** et allez dans ce dossier\n",
    "* Initialiser un dépôt git pour ce dossier et son contenu\n",
    "* Créez un fichier **test.py** et y inscrire les lignes suivantes"
   ]
  },
  {
   "cell_type": "code",
   "execution_count": null,
   "metadata": {
    "collapsed": true
   },
   "outputs": [],
   "source": [
    "__version__ = '1.0'\n",
    "\n",
    "def print_version():\n",
    "\n",
    "    print(__version__)\n",
    "    \n",
    "if __name__ == '__main__':\n",
    "    print_version()"
   ]
  },
  {
   "cell_type": "markdown",
   "metadata": {},
   "source": [
    "* Si vous le pouvez, exécuter ce programme avec la commande **python test.py**.\n",
    "* Avec la commande **git status** visualisez les changements détectés par git\n",
    "* Ajouter tous les fichiers au futur commit (= snapshot) avec la commande **git add test.py**\n",
    "* Visualisez l'état du dépôt avec **git status**\n",
    "* Réaliser votre premier **commit** avec la commande ** git commit -m \"commit initial\"**\n",
    "* Visualisez l'état du dépôt avec **git status**\n",
    "* Vous vous apercevez que vous avez oublié d'ajouter au début de votre programme le *shebang* et l'encodage du fichier. Modifiez le de la manière suivante:"
   ]
  },
  {
   "cell_type": "code",
   "execution_count": null,
   "metadata": {
    "collapsed": true
   },
   "outputs": [],
   "source": [
    "#!/usr/bin/env python\n",
    "# -*- encoding: utf-8 -*-\n",
    "\n",
    "__version__ = '1.0'\n",
    "\n",
    "def print_version():\n",
    "\n",
    "    print(__version__)\n",
    "    \n",
    "if __name__ == '__main__':\n",
    "    print_version()"
   ]
  },
  {
   "cell_type": "markdown",
   "metadata": {},
   "source": [
    "* Visualisez l'état du dépôt avec **git status**\n",
    "* Si vous êtes sur un système unix-like, après avoir rendu le fichier exécutable (`chmod +x test.py`), exécutez votre code avec la commande **./test.py**. On vérifie **toujours** qu'un programme fonctionne avant de le committer. Ca ne l'empêchera pas de contenir des bugs mais il n'y a pas d'intérêt à versionner un code qui ne fonctionne pas du tout.\n",
    "* Visualisez les changements sur le fichier avec la commande **git diff test.py**\n",
    "* Ajouter le fichier au futur commit avec **git add test.py**\n",
    "* Visualisez les changements sur le fichier avec la commande **git diff test.py**. Pourquoi cette différence?\n",
    "* Commitez ce changement avec la commande **git commit -m \"Ajout du shebang et de l'encodage\"**\n",
    "* Visualisez la liste de vos commits avec la commande **git log**. Vous verrez dans le message une longue série de lettres et de chiffres. C'est l'empreinte SHA-1 de vos fichiers. Cet identifiant est unique au commit que vous venez de faire\n",
    "* Vous avez oublié de commentez votre fonction *print_version* (et c'est mal). Modifiez votre code de la manière suivante."
   ]
  },
  {
   "cell_type": "code",
   "execution_count": null,
   "metadata": {
    "collapsed": true
   },
   "outputs": [],
   "source": [
    "#!/usr/bin/env python\n",
    "# -*- encoding: utf-8 -*-\n",
    "\n",
    "__version__ = '1.0'\n",
    "\n",
    "def print_version():\n",
    "    \"\"\"\n",
    "    print program version number\n",
    "    \"\"\"\n",
    "\n",
    "    print(__version__)\n",
    "    \n",
    "if __name__ == '__main__':\n",
    "    print_version()"
   ]
  },
  {
   "cell_type": "markdown",
   "metadata": {},
   "source": [
    "* Versionnez ce changement en utilisant la série de commandes vues précédammment.\n",
    "\n",
    "## Modifier un commit\n",
    "\n",
    "* En prévision des futures évolutions de votre programme vous voulez que votre fonction *print_version* soit disponible dans un module hors de votre programme principal. \n",
    "    * Créez un fichier utils.py avec le contenu suivant: "
   ]
  },
  {
   "cell_type": "code",
   "execution_count": null,
   "metadata": {
    "collapsed": true
   },
   "outputs": [],
   "source": [
    "def print_version(version):\n",
    "    \"\"\"\n",
    "    print program version number\n",
    "    \"\"\"\n",
    "\n",
    "    print(version)\n"
   ]
  },
  {
   "cell_type": "markdown",
   "metadata": {},
   "source": [
    "*    \n",
    "    * Modifiez *test.py* de la manière suivante:"
   ]
  },
  {
   "cell_type": "code",
   "execution_count": null,
   "metadata": {
    "collapsed": true
   },
   "outputs": [],
   "source": [
    "#!/usr/bin/env python\n",
    "# -*- coding: utf-8 -*-\n",
    "\n",
    "import utils\n",
    "\n",
    "__version__ = '1.0'\n",
    "\n",
    "if __name__ == '__main__':\n",
    "    utils.print_version(__version__)\n"
   ]
  },
  {
   "cell_type": "markdown",
   "metadata": {},
   "source": [
    "* Exécutez le code avec la commande **./test.py** (Si vous le pouvez) et en utilisant les commandes vues précédamment committez ces changements\n",
    "* Vous vous apercevez qu'encore une fois vous avez oublié de définir l'encodage des caractères de votre fichier mais vous ne voulez mais créer un nouveau commit pour ce simple changement. Nous allons donc modifier le dernier commit avec les commandes suivantes:\n",
    "    * Ajoutez la ligne **# -*- coding: utf-8 -*- ** au début du fichier *utils.py*\n",
    "    * Exécutez la commande **git add utils.py**\n",
    "    * Pour modifier votre dernier commit utiliser la commande **git commit --amend -m \"votre message\"**\n",
    "    * Visualisez la liste des commits avec **git log**\n",
    "    \n",
    "## Annuler des modifications\n",
    "\n",
    "* Vous pensez que vos modifications sont assez importantes pour changer la version de votre programme. Dans le fichier *test.py* vous allez donc changer le numéro de version à **1.1**.\n",
    "* Finalement vous changez d'avis et vous voulez faire revenir le fichier *test.py* dans son état lors de votre dernier commit. Exécutez la commande **git checkout test.py**\n",
    "* Vous vous dites que votre programme mérite quand même un changement de version et vous vous dites que le passez en version **1.0.1** serait plus adaptée (vous changez souvent d'avis). Changez le numéro de version dans *test.py* et committez ce changement.\n",
    "* Vous avez oublié d'ajoutez une fonction à *utils.py* qui devrait appartenir à la version **1.0.1**, vous voulez donc revenir en arrière. Commencez par lancer la commande **git log** et notez le numéro SHA-1 du dernier commit. Annulez les changements apportés lors du dernier commit en utilisant la commande **git revert empreinte_commit**. Une fenêtre va s'ouvrir (le logiciel dépend de votre ordinateur) pour vous proposez d'entrez un message expliquant pourquoi vous annulez ce commit. Exécutez la commande **git log**. En général on utilise plutôt cette commande car le dernier commit a conduit à l'apparition d'un bug.\n",
    "    \n",
    "## Contrôler les fichiers à versionner\n",
    "\n",
    "* Si vous tentez d'exécuter ce code avec la commande **./test.py**, vous devriez voir apparaître un fichier *utils.pyc*. Les fichiers \\*.pyc sont des fichiers binaires générés automatiquement. Vous ne voulez pas versionner ces fichiers. Mais pour une première étape de l'éxercice vous allez quand même le faire. Si vous ne pouvez pas exécuter le code créez un fichier *utils.pyc* vide.\n",
    "* Ajoutez pour le futur commit tous les fichiers du dossier avec la commande **git add .** et vérifier le statut du dépôts avec **git status**. Commitez les avec la commande **git commit -m \"test versionning fichiers inutiles\"**\n",
    "* Nous avons fait une erreur et nous ne voulons plus versionnner ce fichier *utils.pyc* mais nous voulons les conserver sur notre disque. Nous allons dire à git de ne plus versionner le fichier avec la commande **git rm --cached utils.pyc**. git ne va plus suivre ce fichier mais on peut encore le versionner de nouveau par erreur. Nous allons donc indiquer à git que nous ne voulons versionner aucun fichier avec l'extension *\\*.pyc*\n",
    "* visualisez l'état du dépôt\n",
    "* Créez un fichier *.gitignore* et ajouter à l'intérieur la ligne \\*.pyc. Pour qu'aucun fichier *\\*.pyc* ne se retrouve dans le dépôt, nous allons versionner aussi le fichier *.gitignore*.\n",
    "* Commitez le fichier .gitignore et vérifier le statut du dépôt.\n",
    "* Vous pouvez ajouter dans le fichier *.gitignore* tous les fichiers dont vous ne voulez pas suivre les changements. Chaque type de fichier doit apparaître sur une ligne différente. Vous pouvez aussi ajouter des dossiers en ajoutant dans ce fichier une ligne du type **nom_dossier/\\***."
   ]
  },
  {
   "cell_type": "markdown",
   "metadata": {},
   "source": [
    "## Créez des branches à votre projet\n",
    "\n",
    "git permet de créer des branches dans le cadre de votre développement. Les branches vont vous permettre de continuer vos développements sans change votre code principal. C'est par exemple utile pour disposer d'une version de production d'un programme et de travailler sur une version de développement qui va être testée sur une autre machine.\n",
    "\n",
    "Par défaut les premiers développements sont versionnés sur une branche appelée **master**. Vous pouvez choisir librement le nom de nouvelle branche.\n",
    "\n",
    "### Commandes utiles\n",
    "\n",
    "* Voir la liste des branches\n",
    "    \n",
    "    `git branch`\n",
    "\n",
    "\n",
    "* Créer une nouvelle branche\n",
    "    \n",
    "    `git branch nom_de_la_branche`\n",
    "\n",
    "\n",
    "* Changer de branche\n",
    "    \n",
    "    `git checkout nom_de_la_branche`\n",
    "\n",
    "\n",
    "* Fusionner deux branches\n",
    "    \n",
    "    `git merge nom_de_la_branche`"
   ]
  },
  {
   "cell_type": "markdown",
   "metadata": {},
   "source": [
    "### Exercice\n",
    "\n",
    "* Nous voulon ajouter une nouvelle fonction au module *utils.py*. Nous ne somme pas sûr de l'utilité de cette nouvelle fonction nous allons donc créer une nouvelle branche pour tester l'utilité de cette nouvelle fonction. Cette fonction fera partie de la nouvelle version 1.1 du code.\n",
    "* Créez une nouvelle branche avec la commande **git branch dev_1.1**\n",
    "* Passez sur la branche *dev_1.1* avec la commande **git checkout dev_1.1**\n",
    "* Ajouter la nouvelle fonction *print_author* à *utils.py* et modifier *test.py* de la manière suivante:"
   ]
  },
  {
   "cell_type": "code",
   "execution_count": null,
   "metadata": {
    "collapsed": true
   },
   "outputs": [],
   "source": [
    "def print_version(version):\n",
    "    \"\"\"\n",
    "    print program version number\n",
    "    \"\"\"\n",
    "\n",
    "    print version\n",
    "\n",
    "def print_author(author):\n",
    "    \"\"\"\n",
    "    print program author\n",
    "    \"\"\"\n",
    "\n",
    "    print author\n"
   ]
  },
  {
   "cell_type": "code",
   "execution_count": null,
   "metadata": {
    "collapsed": true
   },
   "outputs": [],
   "source": [
    "#!/usr/bin/env python\n",
    "# -*- coding: utf-8 -*-\n",
    "\n",
    "import utils\n",
    "\n",
    "__version__ = '1.0'\n",
    "__author__ = 'Mon Nom'\n",
    "\n",
    "if __name__ == '__main__':\n",
    "    utils.print_version(__version__)\n",
    "    utils.print_author(__author__)\n"
   ]
  },
  {
   "cell_type": "markdown",
   "metadata": {},
   "source": [
    "* Committez les changements réalisés\n",
    "* Visualisez les changements effectués dans ce commit avec la commande **git show**\n",
    "* Vous êtes statisfait de la nouvelle fonction. Vous allons donc passez notre code en version **1.1**. Changez la version dans *test.py* et committez ce changement.\n",
    "* Visualisez la liste des derniers commits\n",
    "* Statisfait de la nouvelle fonction, nous allon maintenant l'intégré à la branche principale.\n",
    "* Repassez sur la branche **master** avec la commande **git checkout master**\n",
    "* Fussionner la branche **dev_1.1** avec la branche **master** avec la commande git merge dev_1.1. Visualisez les derniers commits de la branche master. Que voyez-vous?\n",
    "* Pour finir nous voulons marquer clairement au sein du dépôt que la dernier commit que nous avons effectué est la version 1.1. Nous allons donc utiliser la commande **git tag v1.1**. Visualisez le résultat de de la commande **git show v1.1**"
   ]
  },
  {
   "cell_type": "markdown",
   "metadata": {},
   "source": [
    "# Travailler seul avec un dépôt distant"
   ]
  },
  {
   "cell_type": "markdown",
   "metadata": {},
   "source": [
    "## Commandes utiles\n",
    "\n",
    "* Cloner un dépot distant\n",
    "    \n",
    "    `git clone nom_depot`\n",
    "\n",
    "\n",
    "* Ajouter un dépôt distant\n",
    "    \n",
    "    `git remote add nom_depot user@server:repository.git`\n",
    "\n",
    "\n",
    "* Pousser les changement sur le serveur distant\n",
    "    \n",
    "    `git push nom_depot branche`\n",
    "\n",
    "\n",
    "* Récupérer en local les changements sur le dépôt distant\n",
    "    \n",
    "    `git fetch {nom_depot}`\n",
    "\n",
    "\n",
    "* Récupérer en local les changements sur le dépôt distant et fusionner les changements avec le dépôt local\n",
    "    \n",
    "    `git pull {nom_depot}`"
   ]
  },
  {
   "cell_type": "markdown",
   "metadata": {},
   "source": [
    "## Exercice \n",
    "\n",
    "* Connectez vous à votre compte sur le serveur gitlab (http://serta01.lmd.polytechnique.fr)\n",
    "* Si ce n'est pas fait ajoutez votre clé ssh publique à gitlab\n",
    "* Créez un nouveau dépôt personnel sur gitlab appelé formation. Pour cela sur la page d'accueil cliquez sur le lien **new project** puis entrez le nom du projet et choississez de le rendre publique.\n",
    "* Nous allons déclarez le dépôt distant dans notre dépôt local avec la commande affiché par gitlab **git remote add origin ...**.\n",
    "* Envoyez vos modifications sur le dépôt distant comme afficher sur la page gitlab avec la commande **git push origin master**. Visualiser les changements sur la page gitlab. La branche **dev_1.1** est-elle accessible sur gitlab.\n",
    "* Lorque vous créez des branches, c'est à vous de choisir si vous voulez qu'elle appraissent sur le serveur distant. Une branche peut être qu'une \"zone\" de travail locale sans que vous la trouviez assez intéressante pour qu'un autre utilisateur s'en serve de base.\n",
    "* Pour envoyer la branche **dev_1.1** sur gitlab, utilisez la commande **git push origin dev_1.1**.\n",
    "* Les tags ne sont pas transmis au serveur distant lors des push. Pour que le *tag* soit envoyé sur le dépôt distant, exécutez la commande **git push origin --tags**. En allant dans le menu tags de gitlab vous devriez le voir apparaître.\n",
    "* En naviguant dans le menu de gauche de la page gitlab de votre projet les différentes informations que peut vous montrer gitlab.\n",
    "* Par erreur, vous avez supprimé le dossier *program_local*. Mais heureusement vous avez votre dépôt distant. Créez un nouveau dépôt local avec la commande **git clone adresse_du_depot nom_dossier**. Avec les différentes commandes vues (log, show...) vérifiez que ce dépôt est bien équivalent au premier."
   ]
  },
  {
   "cell_type": "markdown",
   "metadata": {},
   "source": [
    "# Travail en équipe\n",
    "\n",
    "Dans cette partie nous allons travailler sur un dépôt commun a toute la formation.\n",
    "\n",
    "## Commandes utiles\n",
    "\n",
    "* Sauvegarder temporaire de vos modifications pour nettoyer le dépôt (remisage)\n",
    "    \n",
    "    `git stash`\n",
    "    \n",
    "    \n",
    "* Charger les modification enregistrées par git stash et les appliquer au dépôt actuel\n",
    "    \n",
    "    `git stash pop`\n",
    "\n",
    "\n",
    "## Exercice\n",
    "\n",
    "* Commencer par cloner le dépôt en utilisant la commande **git clone git@serta01.lmd.polytechnique.fr:formation/formation_20150416.git program_groupe**. Vous pouvez aller sur la page http://serta01.lmd.polytechnique.fr/formation/formation_20150416 de manière à pouvoir copier le lien. \n",
    "* Allez dans le dossier program_groupe\n",
    "* Créez un fichier *votre_nom.txt*, committez le et envoyez le sur le dépôt. Voyez ce qui se passe.\n",
    "* Essayer de modifier le fichier README.md pour y ajouter votre nom ou n'importe quel autre commentaire.\n",
    "    * Dans une première étape nous allons modifier ce fichier chacun à tour de rôle. Quand c'est votre tour, exécuter la commande **git pull** pour mettre le dépôt local à jour. Modifiez le fichier, committez le et faite un push vers le serveur\n",
    "    * Dans un deuxième essayer de modifier ce fichier sans coordination. Voyez ce qui se passe.\n"
   ]
  },
  {
   "cell_type": "markdown",
   "metadata": {},
   "source": [
    "# Documentation utile\n",
    "\n",
    "* La documentation officelle (disponible en français et en anglais): https://git-scm.herokuapp.com/doc\n",
    "* Une page expliquant précisemment comment fonctionne un dépôt: http://ndpsoftware.com/git-cheatsheet.html#loc=workspace;\n",
    "* Le cours de OpenClassrooms: http://openclassrooms.com/courses/gerez-vos-codes-source-avec-git"
   ]
  }
 ],
 "metadata": {
  "celltoolbar": "Raw Cell Format",
  "kernelspec": {
   "display_name": "Python 3",
   "language": "python",
   "name": "python3"
  },
  "language_info": {
   "codemirror_mode": {
    "name": "ipython",
    "version": 3
   },
   "file_extension": ".py",
   "mimetype": "text/x-python",
   "name": "python",
   "nbconvert_exporter": "python",
   "pygments_lexer": "ipython3",
   "version": "3.4.3"
  }
 },
 "nbformat": 4,
 "nbformat_minor": 0
}
